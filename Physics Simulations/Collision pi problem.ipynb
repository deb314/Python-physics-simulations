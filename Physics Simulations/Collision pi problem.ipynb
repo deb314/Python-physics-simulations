{
 "cells": [
  {
   "cell_type": "code",
   "execution_count": 3,
   "metadata": {},
   "outputs": [
    {
     "name": "stdout",
     "output_type": "stream",
     "text": [
      "1031\n"
     ]
    }
   ],
   "source": [
    "%matplotlib qt\n",
    "import matplotlib.pyplot as plt\n",
    "import numpy as np\n",
    "from matplotlib.animation import FuncAnimation\n",
    "from math import pow\n",
    "\n",
    "times=1\n",
    "iters=1000\n",
    "h=0.0001\n",
    "t=0.0\n",
    "u1=0\n",
    "m1=1\n",
    "m2=pow(100,times)\n",
    "u2=-1.3\n",
    "x1=2\n",
    "x2=3.4\n",
    "wid1=0.5\n",
    "wid2=0.5\n",
    "x1pos=[]\n",
    "x2pos=[]\n",
    "coll=0\n",
    "collision=[]\n",
    "\n",
    "for i in range(iters):\n",
    "    x1=(x1+u1*t)\n",
    "    x2=(x2+u2*t)\n",
    "    \n",
    "    if (x1+wid1>x2):\n",
    "        v1=(((m1-m2)/(m1+m2))*u1+(2*m2/(m1+m2))*u2)\n",
    "        v2=((2*m1/(m1+m2))*u1+((m2-m1)/(m1+m2))*u2)\n",
    "        u1=v1\n",
    "        u2=v2\n",
    "        coll=coll+1\n",
    "        collision.append(str(coll))\n",
    "    \n",
    "        \n",
    "    elif(x1<0):\n",
    "        u1=-u1\n",
    "        coll=coll+1\n",
    "        collision.append(str(coll))\n",
    "    collision.append(str(coll))\n",
    "        \n",
    "    x1pos.append(x1)\n",
    "    x2pos.append(x2)\n",
    "    t=t+h\n",
    "\n",
    "def animate(i):\n",
    "    rec1.xy=(x1pos[i],0)\n",
    "    rec2.xy=(x2pos[i],0)\n",
    "    tex.set_text(collision[i])\n",
    "    return rec1,rec2,tex,\n",
    "print(len(collision))\n",
    "\n",
    "page=plt.figure(figsize=(7,7))\n",
    "ax=page.add_axes([0,0,1,1])\n",
    "rec1=plt.Rectangle((0,0),0.5,0.5,facecolor='red',edgecolor='black',linewidth=2.5,joinstyle='bevel')\n",
    "rec2=plt.Rectangle((0,0),0.5,0.5,facecolor='blue',edgecolor='black',linewidth=2.5,joinstyle='bevel')\n",
    "ax.add_patch(rec1)\n",
    "ax.add_patch(rec2)\n",
    "ax.set_xlim(-0.4,7)\n",
    "ax.set_ylim(-1,2)\n",
    "ax.set_axis_off()\n",
    "ax.set_aspect('equal')\n",
    "ax.spines['bottom'].set_position('center')\n",
    "ax.plot([0,0],[0,7],[0,9],[0,0],linewidth=3,color='m',alpha=0.4)\n",
    "tex=ax.text(3.4,1,'',fontsize=15)\n",
    "ax.text(1,1,'Number of collisions:',fontsize=15)\n",
    "anim=FuncAnimation(page,animate,frames=iters, interval=0.01*1000,blit=True,repeat=False)\n",
    "plt.show()\n",
    "        "
   ]
  },
  {
   "cell_type": "code",
   "execution_count": null,
   "metadata": {},
   "outputs": [],
   "source": []
  }
 ],
 "metadata": {
  "kernelspec": {
   "display_name": "Python 3",
   "language": "python",
   "name": "python3"
  },
  "language_info": {
   "codemirror_mode": {
    "name": "ipython",
    "version": 3
   },
   "file_extension": ".py",
   "mimetype": "text/x-python",
   "name": "python",
   "nbconvert_exporter": "python",
   "pygments_lexer": "ipython3",
   "version": "3.7.4"
  }
 },
 "nbformat": 4,
 "nbformat_minor": 2
}
