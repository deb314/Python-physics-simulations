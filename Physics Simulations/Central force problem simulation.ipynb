{
 "cells": [
  {
   "cell_type": "code",
   "execution_count": 1,
   "metadata": {},
   "outputs": [
    {
     "name": "stdout",
     "output_type": "stream",
     "text": [
      "pot: -3.994082840236686\n",
      "r: 0.6520802309803653\n",
      "x: 1.4365655455118533\n",
      "y 0.9635676661896326\n"
     ]
    }
   ],
   "source": [
    "%matplotlib qt\n",
    "import matplotlib.pyplot as plt\n",
    "from matplotlib.animation import FuncAnimation\n",
    "import numpy as np\n",
    "from math import *\n",
    "\n",
    "class Central():\n",
    "    def __init__(self, r,theta, rad_vel, iters):\n",
    "        self.r=r\n",
    "        self.theta=theta\n",
    "        self.rad_vel=rad_vel\n",
    "\n",
    "        self.iters=iters\n",
    "        self.x=np.zeros((iters,1))\n",
    "        self.y=np.zeros((iters,1))\n",
    "        self.time=np.zeros((iters,1))\n",
    "        self.pot=np.zeros((500,1))\n",
    "        self.rad=np.zeros((500,1))\n",
    "    \n",
    "    def derive(self):\n",
    "        t=0\n",
    "        h=0.2\n",
    "        k=10\n",
    "        l=25\n",
    "        m=100\n",
    "        r1=0\n",
    "        \n",
    "        for i in range(self.iters):\n",
    "            omega=l/(m*self.r**2)\n",
    "            self.theta=self.theta+h*omega\n",
    "            self.r=self.r+h*self.rad_vel\n",
    "            self.rad_vel=self.rad_vel+h*(l**2/((m**2)*pow(self.r,3))-k/(m*self.r**2))\n",
    "            self.x[i,0]=self.r*cos(self.theta)\n",
    "            self.y[i,0]=self.r*sin(self.theta)\n",
    "            self.time[i,0]=t\n",
    "            t=t+h\n",
    "        \n",
    "        for i in range(0,500):\n",
    "            r1=r1+0.1\n",
    "            self.pot[i,0]=pow(l,2)/(m*pow(r1,2))-k/r1\n",
    "            self.rad[i,0]=r1\n",
    "            \n",
    "cent=Central(1.3,pi/4,-0.1,1000)\n",
    "cent.derive()\n",
    "print('pot:',np.amin(cent.pot))\n",
    "print('r:',np.amax(cent.r))\n",
    "print('x:',np.amax(cent.x))\n",
    "print('y',np.amax(cent.y))\n",
    "\n",
    "still=[]\n",
    "\n",
    "for i in range(cent.iters):\n",
    "    still.append(i)\n",
    "    \n",
    "trailx=[]\n",
    "traily=[]\n",
    "\n",
    "def animate(i):\n",
    "    line.set_data(cent.x[i,0],cent.y[i,0])\n",
    "    trailx.append(cent.x[i])\n",
    "    traily.append(cent.y[i])\n",
    "    line2.set_data(trailx,traily)\n",
    "    return line,line2,\n",
    "\n",
    "page=plt.figure(figsize=(8,8))\n",
    "ax=page.add_axes([0,0,1,1])\n",
    "ax.set_xlim(-2,2)\n",
    "ax.set_ylim(-2,2)\n",
    "ax.set_aspect('equal')\n",
    "ax.set_axis_off()\n",
    "line,=ax.plot([],[],'ro',markersize=10)\n",
    "line2,=ax.plot([],[],'b--',linewidth=1)\n",
    "ax.plot([0],[0], 'go',markersize=10)\n",
    "\n",
    "anim=FuncAnimation(page,animate,frames=1000,interval=0.025*1000,blit=False,repeat=False)\n",
    "plt.show()\n",
    "\n"
   ]
  },
  {
   "cell_type": "code",
   "execution_count": null,
   "metadata": {},
   "outputs": [],
   "source": []
  }
 ],
 "metadata": {
  "kernelspec": {
   "display_name": "Python 3",
   "language": "python",
   "name": "python3"
  },
  "language_info": {
   "codemirror_mode": {
    "name": "ipython",
    "version": 3
   },
   "file_extension": ".py",
   "mimetype": "text/x-python",
   "name": "python",
   "nbconvert_exporter": "python",
   "pygments_lexer": "ipython3",
   "version": "3.7.4"
  }
 },
 "nbformat": 4,
 "nbformat_minor": 2
}
